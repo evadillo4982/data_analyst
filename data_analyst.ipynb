{
 "cells": [
  {
   "cell_type": "code",
   "execution_count": 18,
   "id": "f8856118-097f-4fc6-b04f-aa19a7f68217",
   "metadata": {},
   "outputs": [],
   "source": [
    "import pandas as pd"
   ]
  },
  {
   "cell_type": "code",
   "execution_count": 20,
   "id": "8b1e8ab5-4fde-4cd6-b295-5b34e46a09e6",
   "metadata": {},
   "outputs": [],
   "source": [
    "df = pd.read_csv('ecommercedata.csv') "
   ]
  },
  {
   "cell_type": "markdown",
   "id": "9e47ccec-1ab7-435f-8f76-c9090e08e0e7",
   "metadata": {},
   "source": [
    "## Understanding the size of the dataset"
   ]
  },
  {
   "cell_type": "code",
   "execution_count": 76,
   "id": "dcb606cd-91a4-42c2-b784-4bc56e8b0cee",
   "metadata": {},
   "outputs": [
    {
     "data": {
      "text/html": [
       "<div>\n",
       "<style scoped>\n",
       "    .dataframe tbody tr th:only-of-type {\n",
       "        vertical-align: middle;\n",
       "    }\n",
       "\n",
       "    .dataframe tbody tr th {\n",
       "        vertical-align: top;\n",
       "    }\n",
       "\n",
       "    .dataframe thead th {\n",
       "        text-align: right;\n",
       "    }\n",
       "</style>\n",
       "<table border=\"1\" class=\"dataframe\">\n",
       "  <thead>\n",
       "    <tr style=\"text-align: right;\">\n",
       "      <th></th>\n",
       "      <th>customer_id</th>\n",
       "      <th>name</th>\n",
       "      <th>email</th>\n",
       "      <th>age</th>\n",
       "      <th>gender</th>\n",
       "      <th>annual_income</th>\n",
       "      <th>total_purchases</th>\n",
       "      <th>avg_purchase_value</th>\n",
       "      <th>days_since_last_purchase</th>\n",
       "      <th>customer_satisfaction</th>\n",
       "      <th>churn</th>\n",
       "    </tr>\n",
       "  </thead>\n",
       "  <tbody>\n",
       "    <tr>\n",
       "      <th>0</th>\n",
       "      <td>a3071abd-8922-4608-95af-676364cb411d</td>\n",
       "      <td>Erica Powers</td>\n",
       "      <td>houseariana@example.net</td>\n",
       "      <td>56</td>\n",
       "      <td>Male</td>\n",
       "      <td>41672</td>\n",
       "      <td>11</td>\n",
       "      <td>170.75</td>\n",
       "      <td>14</td>\n",
       "      <td>5</td>\n",
       "      <td>0</td>\n",
       "    </tr>\n",
       "    <tr>\n",
       "      <th>1</th>\n",
       "      <td>114a0236-61b3-4447-964c-dbe6ac3d0773</td>\n",
       "      <td>Sarah Jones</td>\n",
       "      <td>ufranklin@example.org</td>\n",
       "      <td>46</td>\n",
       "      <td>Female</td>\n",
       "      <td>78217</td>\n",
       "      <td>9</td>\n",
       "      <td>63.17</td>\n",
       "      <td>8</td>\n",
       "      <td>4</td>\n",
       "      <td>0</td>\n",
       "    </tr>\n",
       "    <tr>\n",
       "      <th>2</th>\n",
       "      <td>c2fcf312-df91-400a-ab0e-822c1fab051a</td>\n",
       "      <td>Jaime Peterson</td>\n",
       "      <td>james10@example.com</td>\n",
       "      <td>32</td>\n",
       "      <td>Female</td>\n",
       "      <td>28279</td>\n",
       "      <td>10</td>\n",
       "      <td>55.09</td>\n",
       "      <td>8</td>\n",
       "      <td>2</td>\n",
       "      <td>0</td>\n",
       "    </tr>\n",
       "    <tr>\n",
       "      <th>3</th>\n",
       "      <td>7885497e-eb68-4c32-b4a3-b110d6af8aae</td>\n",
       "      <td>Rebecca Wolfe</td>\n",
       "      <td>pricedustin@example.org</td>\n",
       "      <td>60</td>\n",
       "      <td>Female</td>\n",
       "      <td>17017</td>\n",
       "      <td>15</td>\n",
       "      <td>110.88</td>\n",
       "      <td>18</td>\n",
       "      <td>4</td>\n",
       "      <td>0</td>\n",
       "    </tr>\n",
       "    <tr>\n",
       "      <th>4</th>\n",
       "      <td>b212448f-04ae-4943-a90e-0c8500b486fc</td>\n",
       "      <td>Kenneth Peterson</td>\n",
       "      <td>qwyatt@example.net</td>\n",
       "      <td>25</td>\n",
       "      <td>Male</td>\n",
       "      <td>56600</td>\n",
       "      <td>10</td>\n",
       "      <td>158.37</td>\n",
       "      <td>42</td>\n",
       "      <td>3</td>\n",
       "      <td>1</td>\n",
       "    </tr>\n",
       "    <tr>\n",
       "      <th>...</th>\n",
       "      <td>...</td>\n",
       "      <td>...</td>\n",
       "      <td>...</td>\n",
       "      <td>...</td>\n",
       "      <td>...</td>\n",
       "      <td>...</td>\n",
       "      <td>...</td>\n",
       "      <td>...</td>\n",
       "      <td>...</td>\n",
       "      <td>...</td>\n",
       "      <td>...</td>\n",
       "    </tr>\n",
       "    <tr>\n",
       "      <th>995</th>\n",
       "      <td>993b714d-401b-49b7-acb5-012405812705</td>\n",
       "      <td>David Garcia</td>\n",
       "      <td>ronaldparker@example.net</td>\n",
       "      <td>22</td>\n",
       "      <td>Male</td>\n",
       "      <td>36209</td>\n",
       "      <td>10</td>\n",
       "      <td>117.94</td>\n",
       "      <td>30</td>\n",
       "      <td>3</td>\n",
       "      <td>0</td>\n",
       "    </tr>\n",
       "    <tr>\n",
       "      <th>996</th>\n",
       "      <td>28baa956-01c4-4a35-963e-cd3dc47ba6d2</td>\n",
       "      <td>Robert Nelson</td>\n",
       "      <td>mary75@example.com</td>\n",
       "      <td>40</td>\n",
       "      <td>Male</td>\n",
       "      <td>12045</td>\n",
       "      <td>10</td>\n",
       "      <td>119.31</td>\n",
       "      <td>24</td>\n",
       "      <td>2</td>\n",
       "      <td>0</td>\n",
       "    </tr>\n",
       "    <tr>\n",
       "      <th>997</th>\n",
       "      <td>75c38180-3083-4e5d-a0bb-2617d2414f31</td>\n",
       "      <td>William Walker</td>\n",
       "      <td>kevin12@example.net</td>\n",
       "      <td>27</td>\n",
       "      <td>Female</td>\n",
       "      <td>45709</td>\n",
       "      <td>11</td>\n",
       "      <td>84.18</td>\n",
       "      <td>40</td>\n",
       "      <td>2</td>\n",
       "      <td>0</td>\n",
       "    </tr>\n",
       "    <tr>\n",
       "      <th>998</th>\n",
       "      <td>4c978c03-0bd6-44b9-b3ea-ecd3b3e8fc5f</td>\n",
       "      <td>Hannah Mccoy</td>\n",
       "      <td>snyderdavid@example.net</td>\n",
       "      <td>61</td>\n",
       "      <td>Male</td>\n",
       "      <td>66514</td>\n",
       "      <td>10</td>\n",
       "      <td>100.51</td>\n",
       "      <td>12</td>\n",
       "      <td>5</td>\n",
       "      <td>1</td>\n",
       "    </tr>\n",
       "    <tr>\n",
       "      <th>999</th>\n",
       "      <td>34c03700-b86a-4af5-8467-3b0f58290b76</td>\n",
       "      <td>Shannon Harris</td>\n",
       "      <td>archeralejandro@example.net</td>\n",
       "      <td>19</td>\n",
       "      <td>Male</td>\n",
       "      <td>79375</td>\n",
       "      <td>4</td>\n",
       "      <td>193.79</td>\n",
       "      <td>43</td>\n",
       "      <td>4</td>\n",
       "      <td>1</td>\n",
       "    </tr>\n",
       "  </tbody>\n",
       "</table>\n",
       "<p>1000 rows × 11 columns</p>\n",
       "</div>"
      ],
      "text/plain": [
       "                              customer_id              name  \\\n",
       "0    a3071abd-8922-4608-95af-676364cb411d      Erica Powers   \n",
       "1    114a0236-61b3-4447-964c-dbe6ac3d0773       Sarah Jones   \n",
       "2    c2fcf312-df91-400a-ab0e-822c1fab051a    Jaime Peterson   \n",
       "3    7885497e-eb68-4c32-b4a3-b110d6af8aae     Rebecca Wolfe   \n",
       "4    b212448f-04ae-4943-a90e-0c8500b486fc  Kenneth Peterson   \n",
       "..                                    ...               ...   \n",
       "995  993b714d-401b-49b7-acb5-012405812705      David Garcia   \n",
       "996  28baa956-01c4-4a35-963e-cd3dc47ba6d2     Robert Nelson   \n",
       "997  75c38180-3083-4e5d-a0bb-2617d2414f31    William Walker   \n",
       "998  4c978c03-0bd6-44b9-b3ea-ecd3b3e8fc5f      Hannah Mccoy   \n",
       "999  34c03700-b86a-4af5-8467-3b0f58290b76    Shannon Harris   \n",
       "\n",
       "                           email  age  gender  annual_income  total_purchases  \\\n",
       "0        houseariana@example.net   56    Male          41672               11   \n",
       "1          ufranklin@example.org   46  Female          78217                9   \n",
       "2            james10@example.com   32  Female          28279               10   \n",
       "3        pricedustin@example.org   60  Female          17017               15   \n",
       "4             qwyatt@example.net   25    Male          56600               10   \n",
       "..                           ...  ...     ...            ...              ...   \n",
       "995     ronaldparker@example.net   22    Male          36209               10   \n",
       "996           mary75@example.com   40    Male          12045               10   \n",
       "997          kevin12@example.net   27  Female          45709               11   \n",
       "998      snyderdavid@example.net   61    Male          66514               10   \n",
       "999  archeralejandro@example.net   19    Male          79375                4   \n",
       "\n",
       "     avg_purchase_value  days_since_last_purchase  customer_satisfaction  \\\n",
       "0                170.75                        14                      5   \n",
       "1                 63.17                         8                      4   \n",
       "2                 55.09                         8                      2   \n",
       "3                110.88                        18                      4   \n",
       "4                158.37                        42                      3   \n",
       "..                  ...                       ...                    ...   \n",
       "995              117.94                        30                      3   \n",
       "996              119.31                        24                      2   \n",
       "997               84.18                        40                      2   \n",
       "998              100.51                        12                      5   \n",
       "999              193.79                        43                      4   \n",
       "\n",
       "     churn  \n",
       "0        0  \n",
       "1        0  \n",
       "2        0  \n",
       "3        0  \n",
       "4        1  \n",
       "..     ...  \n",
       "995      0  \n",
       "996      0  \n",
       "997      0  \n",
       "998      1  \n",
       "999      1  \n",
       "\n",
       "[1000 rows x 11 columns]"
      ]
     },
     "execution_count": 76,
     "metadata": {},
     "output_type": "execute_result"
    }
   ],
   "source": [
    "df"
   ]
  },
  {
   "cell_type": "code",
   "execution_count": 25,
   "id": "c43d5c66-bc3c-4e95-b910-1dde452cab38",
   "metadata": {},
   "outputs": [
    {
     "data": {
      "text/plain": [
       "(1000, 11)"
      ]
     },
     "execution_count": 25,
     "metadata": {},
     "output_type": "execute_result"
    }
   ],
   "source": [
    "df.shape"
   ]
  },
  {
   "cell_type": "markdown",
   "id": "cb7dd998-339c-43cf-8f16-bbc3f42695d9",
   "metadata": {},
   "source": [
    "# Cleaning the data"
   ]
  },
  {
   "cell_type": "markdown",
   "id": "7c01d5fe-3d98-4961-8f25-cf01426ad263",
   "metadata": {},
   "source": [
    "## For this I will be:\n",
    "#### - Checking missing values\n",
    "#### - Correct datatypes (if needed)\n",
    "#### - Inconsistencies, ex: Male, male....\n",
    "#### - Remove duplicates\n",
    "#### - Extra - Standarization on Data"
   ]
  },
  {
   "cell_type": "markdown",
   "id": "d65c4883-147f-430a-92d7-8bea6f348416",
   "metadata": {},
   "source": [
    "## -------------------------------------------------------------------------------------------"
   ]
  },
  {
   "cell_type": "markdown",
   "id": "1d326bf5-a3dc-479d-b794-ec95f13305b4",
   "metadata": {},
   "source": [
    "## Checking missing values\n",
    "#### Make sure to count any missing value in the whole dataset"
   ]
  },
  {
   "cell_type": "code",
   "execution_count": 31,
   "id": "dacc0326-6419-47d8-b7af-fb29a8ec9a73",
   "metadata": {},
   "outputs": [
    {
     "data": {
      "text/plain": [
       "customer_id                 0\n",
       "name                        0\n",
       "email                       0\n",
       "age                         0\n",
       "gender                      0\n",
       "annual_income               0\n",
       "total_purchases             0\n",
       "avg_purchase_value          0\n",
       "days_since_last_purchase    0\n",
       "customer_satisfaction       0\n",
       "churn                       0\n",
       "dtype: int64"
      ]
     },
     "execution_count": 31,
     "metadata": {},
     "output_type": "execute_result"
    }
   ],
   "source": [
    "df.isnull().sum()"
   ]
  },
  {
   "cell_type": "markdown",
   "id": "eaf3bcfb-29ca-4d57-bd40-b898f5069d29",
   "metadata": {},
   "source": [
    "#### No nulls means we don't need to drop any row"
   ]
  },
  {
   "cell_type": "markdown",
   "id": "988afccb-47aa-403a-b89d-e381b0fbf206",
   "metadata": {},
   "source": [
    "## Correct datatypes\n",
    "#### Need to see the data types for each column and make adjustment if needed, ex: a number column as string or viceversa"
   ]
  },
  {
   "cell_type": "code",
   "execution_count": 35,
   "id": "29896afe-1d24-4ade-920f-d5a98ac75ed9",
   "metadata": {},
   "outputs": [
    {
     "data": {
      "text/plain": [
       "customer_id                  object\n",
       "name                         object\n",
       "email                        object\n",
       "age                           int64\n",
       "gender                       object\n",
       "annual_income                 int64\n",
       "total_purchases               int64\n",
       "avg_purchase_value          float64\n",
       "days_since_last_purchase      int64\n",
       "customer_satisfaction         int64\n",
       "churn                         int64\n",
       "dtype: object"
      ]
     },
     "execution_count": 35,
     "metadata": {},
     "output_type": "execute_result"
    }
   ],
   "source": [
    "df.dtypes"
   ]
  },
  {
   "cell_type": "markdown",
   "id": "d10fa5ea-0afa-4739-afa6-be1234a08391",
   "metadata": {},
   "source": [
    "#### Looking at the types, seems like the numeric columns are correctly set-up as well as the string columns which are as object which could be string+integer in a column which is helpful for columns like 'customer_id' and 'email'. No need for changes"
   ]
  },
  {
   "cell_type": "markdown",
   "id": "061556c9-dc90-4156-b230-60487c372152",
   "metadata": {},
   "source": [
    "## Inconsistencies"
   ]
  },
  {
   "cell_type": "markdown",
   "id": "1d044f16-8ae7-4ae6-ace7-8303d577cb03",
   "metadata": {},
   "source": [
    "#### Checking to see if there is any other value in gender other than Male or Female "
   ]
  },
  {
   "cell_type": "code",
   "execution_count": 71,
   "id": "7a28cc0e-2887-432d-9fb2-20bc7f3e23c1",
   "metadata": {},
   "outputs": [
    {
     "data": {
      "text/plain": [
       "gender\n",
       "Male      526\n",
       "Female    474\n",
       "Name: count, dtype: int64"
      ]
     },
     "execution_count": 71,
     "metadata": {},
     "output_type": "execute_result"
    }
   ],
   "source": [
    "df['gender'].value_counts()"
   ]
  },
  {
   "cell_type": "markdown",
   "id": "51be7eec-5b0c-47cc-bb30-9081a628942c",
   "metadata": {},
   "source": [
    "#### Looks like there is no inconsistency such as upper and lower case or any other gender"
   ]
  },
  {
   "cell_type": "markdown",
   "id": "b78bc127-53c9-4e38-aa2f-22be9103d155",
   "metadata": {},
   "source": [
    "## Duplicates"
   ]
  },
  {
   "cell_type": "markdown",
   "id": "0d8cac52-ac3e-4e8d-898e-820434382612",
   "metadata": {},
   "source": [
    "#### Need to check the columns where duplicates could mean wrong data, for this dataset we will be checking for 'customer_id' and 'email' since they are supposed to be unique"
   ]
  },
  {
   "cell_type": "code",
   "execution_count": 90,
   "id": "4d78a93b-aa48-4616-bca1-7239aa0b6bdc",
   "metadata": {},
   "outputs": [
    {
     "data": {
      "text/html": [
       "<div>\n",
       "<style scoped>\n",
       "    .dataframe tbody tr th:only-of-type {\n",
       "        vertical-align: middle;\n",
       "    }\n",
       "\n",
       "    .dataframe tbody tr th {\n",
       "        vertical-align: top;\n",
       "    }\n",
       "\n",
       "    .dataframe thead th {\n",
       "        text-align: right;\n",
       "    }\n",
       "</style>\n",
       "<table border=\"1\" class=\"dataframe\">\n",
       "  <thead>\n",
       "    <tr style=\"text-align: right;\">\n",
       "      <th></th>\n",
       "      <th>customer_id</th>\n",
       "      <th>name</th>\n",
       "      <th>email</th>\n",
       "      <th>age</th>\n",
       "      <th>gender</th>\n",
       "      <th>annual_income</th>\n",
       "      <th>total_purchases</th>\n",
       "      <th>avg_purchase_value</th>\n",
       "      <th>days_since_last_purchase</th>\n",
       "      <th>customer_satisfaction</th>\n",
       "      <th>churn</th>\n",
       "    </tr>\n",
       "  </thead>\n",
       "  <tbody>\n",
       "    <tr>\n",
       "      <th>419</th>\n",
       "      <td>90be434f-c518-4098-88ef-0b1b064f0905</td>\n",
       "      <td>Ryan Morris</td>\n",
       "      <td>lrussell@example.net</td>\n",
       "      <td>47</td>\n",
       "      <td>Male</td>\n",
       "      <td>46628</td>\n",
       "      <td>10</td>\n",
       "      <td>29.21</td>\n",
       "      <td>2</td>\n",
       "      <td>4</td>\n",
       "      <td>1</td>\n",
       "    </tr>\n",
       "    <tr>\n",
       "      <th>633</th>\n",
       "      <td>cd5acafd-8c7a-423c-b78b-b5f43cb1179a</td>\n",
       "      <td>Monica Rojas</td>\n",
       "      <td>lrussell@example.net</td>\n",
       "      <td>44</td>\n",
       "      <td>Female</td>\n",
       "      <td>63260</td>\n",
       "      <td>4</td>\n",
       "      <td>74.29</td>\n",
       "      <td>16</td>\n",
       "      <td>3</td>\n",
       "      <td>0</td>\n",
       "    </tr>\n",
       "    <tr>\n",
       "      <th>721</th>\n",
       "      <td>97f14705-fca1-401b-9fac-1492984173b3</td>\n",
       "      <td>Billy Smith</td>\n",
       "      <td>wgonzalez@example.com</td>\n",
       "      <td>18</td>\n",
       "      <td>Male</td>\n",
       "      <td>54886</td>\n",
       "      <td>11</td>\n",
       "      <td>166.87</td>\n",
       "      <td>18</td>\n",
       "      <td>2</td>\n",
       "      <td>1</td>\n",
       "    </tr>\n",
       "    <tr>\n",
       "      <th>916</th>\n",
       "      <td>232c3e46-cf3b-43e7-a77a-439f3b67deba</td>\n",
       "      <td>Mrs. Nicole Weaver</td>\n",
       "      <td>wgonzalez@example.com</td>\n",
       "      <td>35</td>\n",
       "      <td>Male</td>\n",
       "      <td>68985</td>\n",
       "      <td>9</td>\n",
       "      <td>107.35</td>\n",
       "      <td>12</td>\n",
       "      <td>4</td>\n",
       "      <td>0</td>\n",
       "    </tr>\n",
       "  </tbody>\n",
       "</table>\n",
       "</div>"
      ],
      "text/plain": [
       "                              customer_id                name  \\\n",
       "419  90be434f-c518-4098-88ef-0b1b064f0905         Ryan Morris   \n",
       "633  cd5acafd-8c7a-423c-b78b-b5f43cb1179a        Monica Rojas   \n",
       "721  97f14705-fca1-401b-9fac-1492984173b3         Billy Smith   \n",
       "916  232c3e46-cf3b-43e7-a77a-439f3b67deba  Mrs. Nicole Weaver   \n",
       "\n",
       "                     email  age  gender  annual_income  total_purchases  \\\n",
       "419   lrussell@example.net   47    Male          46628               10   \n",
       "633   lrussell@example.net   44  Female          63260                4   \n",
       "721  wgonzalez@example.com   18    Male          54886               11   \n",
       "916  wgonzalez@example.com   35    Male          68985                9   \n",
       "\n",
       "     avg_purchase_value  days_since_last_purchase  customer_satisfaction  \\\n",
       "419               29.21                         2                      4   \n",
       "633               74.29                        16                      3   \n",
       "721              166.87                        18                      2   \n",
       "916              107.35                        12                      4   \n",
       "\n",
       "     churn  \n",
       "419      1  \n",
       "633      0  \n",
       "721      1  \n",
       "916      0  "
      ]
     },
     "execution_count": 90,
     "metadata": {},
     "output_type": "execute_result"
    }
   ],
   "source": [
    "df[df.duplicated(['email'], keep=False)]"
   ]
  },
  {
   "cell_type": "code",
   "execution_count": null,
   "id": "549e27aa-8fb9-49e1-bc0d-72e2d740519c",
   "metadata": {},
   "outputs": [],
   "source": []
  }
 ],
 "metadata": {
  "kernelspec": {
   "display_name": "Python 3 (ipykernel)",
   "language": "python",
   "name": "python3"
  },
  "language_info": {
   "codemirror_mode": {
    "name": "ipython",
    "version": 3
   },
   "file_extension": ".py",
   "mimetype": "text/x-python",
   "name": "python",
   "nbconvert_exporter": "python",
   "pygments_lexer": "ipython3",
   "version": "3.12.4"
  }
 },
 "nbformat": 4,
 "nbformat_minor": 5
}
